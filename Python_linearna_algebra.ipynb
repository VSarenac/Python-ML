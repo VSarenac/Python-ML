{
 "cells": [
  {
   "cell_type": "code",
   "execution_count": 1,
   "id": "6a27b5fd",
   "metadata": {},
   "outputs": [],
   "source": [
    "import numpy as np"
   ]
  },
  {
   "cell_type": "code",
   "execution_count": 8,
   "id": "36426c56",
   "metadata": {},
   "outputs": [
    {
     "name": "stdout",
     "output_type": "stream",
     "text": [
      "[[ 6  3]\n",
      " [ 1 12]]\n",
      "(2, 2) \n",
      "\n",
      "[[ 8 10 11]\n",
      " [ 9 10 13]]\n",
      "(2, 3) \n",
      "\n",
      "[[ 9 11]\n",
      " [ 7 13]]\n",
      "(2, 2) \n",
      "\n",
      "[[ 9 11]\n",
      " [ 7 13]]\n",
      "(2, 2) \n",
      "\n"
     ]
    }
   ],
   "source": [
    "# Mnozenje matrica\n",
    "\n",
    "A = np.array([[2,3], [1,4]])\n",
    "B = np.array([[1,2,1],[2,2,3]])\n",
    "C = np.array([[3,1], [1,3]])\n",
    "\n",
    "E = A * C #element po element\n",
    "print(E)\n",
    "print(E.shape, '\\n')\n",
    "\n",
    "D = A.dot(B) #matricno\n",
    "print(D)\n",
    "print(D.shape, '\\n')\n",
    "\n",
    "F = A.dot(C)\n",
    "print(F)\n",
    "print(F.shape, '\\n')\n",
    "\n",
    "G = np.dot(A,B)\n",
    "print(F)\n",
    "print(F.shape, '\\n')"
   ]
  },
  {
   "cell_type": "code",
   "execution_count": 12,
   "id": "b4284bc6",
   "metadata": {},
   "outputs": [
    {
     "name": "stdout",
     "output_type": "stream",
     "text": [
      "[[2 3]\n",
      " [1 4]] \n",
      "\n",
      "[[2. 0.]\n",
      " [0. 4.]] \n",
      "\n",
      "[[2. 3.]\n",
      " [1. 4.]]\n"
     ]
    }
   ],
   "source": [
    "# Mnozenje jedinicnom matricom\n",
    "I = np.eye(2)\n",
    "print(A, '\\n')\n",
    "print(A*I, '\\n')\n",
    "print(A.dot(I))"
   ]
  },
  {
   "cell_type": "code",
   "execution_count": 14,
   "id": "70005e79",
   "metadata": {},
   "outputs": [
    {
     "name": "stdout",
     "output_type": "stream",
     "text": [
      "[[5]]\n",
      "[[2 2 0 1]\n",
      " [2 2 0 1]\n",
      " [4 4 0 2]\n",
      " [2 2 0 1]]\n"
     ]
    }
   ],
   "source": [
    "# Skalarno, vektorski i element po element \n",
    "\n",
    "v1 = np.array([[1],[1],[2],[1]])\n",
    "v2 = np.array([[2],[2],[0],[1]])\n",
    "\n",
    "print(np.dot(v1.T, v2)) #skalarno: vrsta*kolona\n",
    "print(np.dot(v1, v2.T)) #vektorski: kolona*vrsta\n",
    "\n"
   ]
  },
  {
   "cell_type": "code",
   "execution_count": 17,
   "id": "5e324ed9",
   "metadata": {},
   "outputs": [
    {
     "name": "stdout",
     "output_type": "stream",
     "text": [
      "[[2 3]\n",
      " [1 4]] \n",
      "\n",
      "[[2 1]\n",
      " [3 4]] \n",
      "\n",
      "[[1 2 1]\n",
      " [2 2 3]] \n",
      "\n",
      "[[1 2]\n",
      " [2 2]\n",
      " [1 3]] \n",
      "\n",
      "[[3 1]\n",
      " [1 3]] \n",
      "\n",
      "[[3 1]\n",
      " [1 3]] \n",
      "\n"
     ]
    }
   ],
   "source": [
    "# Transponovanje matrica \n",
    "\n",
    "print(A, '\\n')\n",
    "print(A.T, '\\n')\n",
    "print(B, '\\n')\n",
    "print(B.T, '\\n')\n",
    "print(C, '\\n')\n",
    "print(C.T, '\\n')"
   ]
  },
  {
   "cell_type": "code",
   "execution_count": 21,
   "id": "264e6cf7",
   "metadata": {},
   "outputs": [
    {
     "name": "stdout",
     "output_type": "stream",
     "text": [
      "[[2 3]\n",
      " [1 4]] \n",
      "\n",
      "6 \n",
      "\n",
      "[2 4] \n",
      "\n",
      "6\n"
     ]
    }
   ],
   "source": [
    "# Izracunavanje traga matrice (suma elemenata na dijagonali)\n",
    "\n",
    "print(A,'\\n')\n",
    "t = np.trace(A)\n",
    "print(t, '\\n')\n",
    "\n",
    "d = np.diag(A)\n",
    "t1 = sum(d)\n",
    "print(d, '\\n')\n",
    "print(t1)"
   ]
  },
  {
   "cell_type": "code",
   "execution_count": 24,
   "id": "f4b57f2e",
   "metadata": {},
   "outputs": [
    {
     "name": "stdout",
     "output_type": "stream",
     "text": [
      "[[1]\n",
      " [1]\n",
      " [2]\n",
      " [1]] \n",
      "\n",
      "2.6457513110645907 \n",
      "\n",
      "5.0 \n",
      "\n",
      "2.6457513110645907 \n",
      "\n",
      "2.0\n"
     ]
    }
   ],
   "source": [
    "# Izracunavanje norme\n",
    "print(v1, '\\n')\n",
    "print(np.linalg.norm(v1), '\\n')\n",
    "print(np.linalg.norm(v1,1), '\\n')\n",
    "print(np.linalg.norm(v1,2), '\\n')\n",
    "print(np.linalg.norm(v1,np.inf) )\n"
   ]
  },
  {
   "cell_type": "code",
   "execution_count": 35,
   "id": "5a918c52",
   "metadata": {},
   "outputs": [
    {
     "name": "stdout",
     "output_type": "stream",
     "text": [
      "2.449489742783178 \n",
      "\n",
      "[[0.62994079]]\n"
     ]
    }
   ],
   "source": [
    "# Izracunati rastojanje i ugao\n",
    "\n",
    "d = np.linalg.norm(v1 - v2)\n",
    "e = np.dot(v1.T, v2) / (np.linalg.norm(v1) * np.linalg.norm(v2))\n",
    "\n",
    "print(d, '\\n')\n",
    "print(e)"
   ]
  },
  {
   "cell_type": "code",
   "execution_count": 28,
   "id": "a31b71f6",
   "metadata": {},
   "outputs": [
    {
     "name": "stdout",
     "output_type": "stream",
     "text": [
      "3 \n",
      "\n",
      "2\n"
     ]
    }
   ],
   "source": [
    "# Rang matrice\n",
    "\n",
    "A = np.array([[1,0,5], [2,6,1], [3,2,0]])\n",
    "B = np.array([[1,2,3], [0,2,2], [4,0,4]])\n",
    "\n",
    "print(np.linalg.matrix_rank(A), '\\n')\n",
    "print(np.linalg.matrix_rank(B))"
   ]
  },
  {
   "cell_type": "code",
   "execution_count": 37,
   "id": "8e2d4b65",
   "metadata": {},
   "outputs": [
    {
     "name": "stdout",
     "output_type": "stream",
     "text": [
      "[[ 0.02777778 -0.13888889  0.41666667]\n",
      " [-0.04166667  0.20833333 -0.125     ]\n",
      " [ 0.19444444  0.02777778 -0.08333333]]\n"
     ]
    }
   ],
   "source": [
    "# Inverzna matrica\n",
    "\n",
    "print(np.linalg.inv(A)) #regularna\n",
    "#print(np.linalg.inv(B)) --singularna\n"
   ]
  },
  {
   "cell_type": "code",
   "execution_count": 38,
   "id": "00807e3d",
   "metadata": {},
   "outputs": [
    {
     "name": "stdout",
     "output_type": "stream",
     "text": [
      "-72.0\n",
      "0.0\n"
     ]
    }
   ],
   "source": [
    "# Determinante matrice\n",
    "\n",
    "print(np.linalg.det(A))\n",
    "print(np.linalg.det(B))"
   ]
  },
  {
   "cell_type": "code",
   "execution_count": 40,
   "id": "50bc9ee0",
   "metadata": {},
   "outputs": [
    {
     "name": "stdout",
     "output_type": "stream",
     "text": [
      "[3. 1.] \n",
      "\n",
      "[[ 0.70710678 -0.70710678]\n",
      " [ 0.70710678  0.70710678]]\n"
     ]
    }
   ],
   "source": [
    "# Naci karakterisiticne vrednosti i karakterisitcne vektore matrice\n",
    "\n",
    "A = np.array([[2,1],[1,2]])\n",
    "B = np.array([[2,0,0], [0,3,4], [0,4,9]])\n",
    "C, D = np.linalg.eig(A)\n",
    "\n",
    "print(C, '\\n')\n",
    "print(D)"
   ]
  },
  {
   "cell_type": "code",
   "execution_count": null,
   "id": "623e5e97",
   "metadata": {},
   "outputs": [],
   "source": []
  },
  {
   "cell_type": "code",
   "execution_count": null,
   "id": "22011285",
   "metadata": {},
   "outputs": [],
   "source": []
  },
  {
   "cell_type": "code",
   "execution_count": null,
   "id": "4d988ee8",
   "metadata": {},
   "outputs": [],
   "source": []
  },
  {
   "cell_type": "code",
   "execution_count": null,
   "id": "51c63711",
   "metadata": {},
   "outputs": [],
   "source": []
  },
  {
   "cell_type": "code",
   "execution_count": null,
   "id": "cf9a0983",
   "metadata": {},
   "outputs": [],
   "source": []
  },
  {
   "cell_type": "code",
   "execution_count": null,
   "id": "58513549",
   "metadata": {},
   "outputs": [],
   "source": []
  },
  {
   "cell_type": "code",
   "execution_count": null,
   "id": "46cf1722",
   "metadata": {},
   "outputs": [],
   "source": []
  },
  {
   "cell_type": "code",
   "execution_count": null,
   "id": "8ea0d247",
   "metadata": {},
   "outputs": [],
   "source": []
  },
  {
   "cell_type": "code",
   "execution_count": null,
   "id": "78539445",
   "metadata": {},
   "outputs": [],
   "source": []
  },
  {
   "cell_type": "code",
   "execution_count": null,
   "id": "51f28a1e",
   "metadata": {},
   "outputs": [],
   "source": []
  },
  {
   "cell_type": "code",
   "execution_count": null,
   "id": "9435f42e",
   "metadata": {},
   "outputs": [],
   "source": []
  },
  {
   "cell_type": "code",
   "execution_count": null,
   "id": "32169fae",
   "metadata": {},
   "outputs": [],
   "source": []
  },
  {
   "cell_type": "code",
   "execution_count": null,
   "id": "18ecf5df",
   "metadata": {},
   "outputs": [],
   "source": []
  },
  {
   "cell_type": "code",
   "execution_count": null,
   "id": "81e7cdaa",
   "metadata": {},
   "outputs": [],
   "source": []
  },
  {
   "cell_type": "code",
   "execution_count": null,
   "id": "78afa65e",
   "metadata": {},
   "outputs": [],
   "source": []
  },
  {
   "cell_type": "code",
   "execution_count": null,
   "id": "3501ff81",
   "metadata": {},
   "outputs": [],
   "source": []
  },
  {
   "cell_type": "code",
   "execution_count": null,
   "id": "40c98a9f",
   "metadata": {},
   "outputs": [],
   "source": []
  },
  {
   "cell_type": "code",
   "execution_count": null,
   "id": "757fc787",
   "metadata": {},
   "outputs": [],
   "source": []
  },
  {
   "cell_type": "code",
   "execution_count": null,
   "id": "ed749d96",
   "metadata": {},
   "outputs": [],
   "source": []
  },
  {
   "cell_type": "code",
   "execution_count": null,
   "id": "e605c31f",
   "metadata": {},
   "outputs": [],
   "source": []
  },
  {
   "cell_type": "code",
   "execution_count": null,
   "id": "c2356373",
   "metadata": {},
   "outputs": [],
   "source": []
  },
  {
   "cell_type": "code",
   "execution_count": null,
   "id": "3e1b4583",
   "metadata": {},
   "outputs": [],
   "source": []
  },
  {
   "cell_type": "code",
   "execution_count": null,
   "id": "4ba4b4ef",
   "metadata": {},
   "outputs": [],
   "source": []
  },
  {
   "cell_type": "code",
   "execution_count": null,
   "id": "a4a4aeeb",
   "metadata": {},
   "outputs": [],
   "source": []
  },
  {
   "cell_type": "code",
   "execution_count": null,
   "id": "a3358f53",
   "metadata": {},
   "outputs": [],
   "source": []
  },
  {
   "cell_type": "code",
   "execution_count": null,
   "id": "c961bf03",
   "metadata": {},
   "outputs": [],
   "source": []
  }
 ],
 "metadata": {
  "kernelspec": {
   "display_name": "Python 3 (ipykernel)",
   "language": "python",
   "name": "python3"
  },
  "language_info": {
   "codemirror_mode": {
    "name": "ipython",
    "version": 3
   },
   "file_extension": ".py",
   "mimetype": "text/x-python",
   "name": "python",
   "nbconvert_exporter": "python",
   "pygments_lexer": "ipython3",
   "version": "3.9.13"
  }
 },
 "nbformat": 4,
 "nbformat_minor": 5
}
