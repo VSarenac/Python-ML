{
 "cells": [
  {
   "cell_type": "markdown",
   "id": "7bc37210",
   "metadata": {},
   "source": [
    "import pandas as pd\n",
    "import numpy as np\n",
    "import matplotlib.pyplot as plt"
   ]
  },
  {
   "cell_type": "code",
   "execution_count": 21,
   "id": "659eeaf2",
   "metadata": {},
   "outputs": [
    {
     "name": "stdout",
     "output_type": "stream",
     "text": [
      "5\n",
      "6\n",
      "hello\n",
      "5 hello\n"
     ]
    }
   ],
   "source": [
    "#Varijable\n",
    "\n",
    "num = 5\n",
    "Num = 6\n",
    "alpha = 'hello'\n",
    "mix = str(num) + ' ' + alpha\n",
    "\n",
    "print(num)\n",
    "print(Num)\n",
    "print(alpha)\n",
    "print(mix)"
   ]
  },
  {
   "cell_type": "code",
   "execution_count": 28,
   "id": "4ad1d731",
   "metadata": {},
   "outputs": [
    {
     "name": "stdout",
     "output_type": "stream",
     "text": [
      "[1, 2, 3, 4, 5, 6, 7, 8, 9, 10]\n",
      "<class 'list'>\n",
      "[[1, 2, 3], [4, 5, 6]]\n",
      "First item in a  1  in A  [1, 2, 3]\n",
      "Last item in a  10  in A  [4, 5, 6]\n",
      "First item in a  [1, 2, 3]\n",
      "Last item in a  [8, 9, 10]\n",
      "Start at 4th item in a [4, 5, 6, 7, 8, 9, 10]\n",
      "[7, 10]\n",
      "2\n"
     ]
    }
   ],
   "source": [
    "#Liste, vektori i matrice\n",
    "\n",
    "a = [1,2,3,4,5,6,7,8,9,10]\n",
    "print(a)\n",
    "print(type(a))\n",
    "\n",
    "A = [[1,2,3], [4,5,6]]\n",
    "print(A)\n",
    "\n",
    "print('First item in a ', a[0], ' in A ', A[0])\n",
    "print('Last item in a ', a[-1], ' in A ', A[-1])\n",
    "\n",
    "print('First item in a ', a[:3])\n",
    "print('Last item in a ', a[-3:])\n",
    "print('Start at 4th item in a', a[3:])\n",
    "\n",
    "print(a[::3][2:4])\n",
    "print(A[0][1])"
   ]
  },
  {
   "cell_type": "code",
   "execution_count": 29,
   "id": "7d9ab5cd",
   "metadata": {},
   "outputs": [
    {
     "name": "stdout",
     "output_type": "stream",
     "text": [
      "Length of list 10\n",
      "Largest number in list 10\n",
      "Smallest number 1\n",
      "Median 5.5\n",
      "The largest number in the first list is  10 and is found at index  9\n"
     ]
    }
   ],
   "source": [
    "print('Length of list', len(a))\n",
    "print('Largest number in list', max(a))\n",
    "print('Smallest number', min(a))\n",
    "print('Median', np.median(a))\n",
    "\n",
    "print('The largest number in the first list is ', max(a), 'and is found at index ', np.argmax(a))"
   ]
  },
  {
   "cell_type": "code",
   "execution_count": 30,
   "id": "04a6203e",
   "metadata": {},
   "outputs": [
    {
     "name": "stdout",
     "output_type": "stream",
     "text": [
      "[1, 2, 3, 4, 5, 6, 7, 8, 9, 10]\n",
      "[1, 2, 3, 4, 5, 6, 7, 8, 9, 10, 4]\n",
      "[ 1  2  3  4  4  5  6  7  8  9 10]\n",
      "[ 1  2  3  4  5  6  7  8  9 10]\n"
     ]
    }
   ],
   "source": [
    "print(a)\n",
    "a.append(4)\n",
    "print(a)\n",
    "print(np.sort(a))\n",
    "print(np.unique(a))"
   ]
  },
  {
   "cell_type": "code",
   "execution_count": 31,
   "id": "1d229a63",
   "metadata": {},
   "outputs": [
    {
     "name": "stdout",
     "output_type": "stream",
     "text": [
      "[ 1  2  3  4  5  6  7  8  9 10  4]\n",
      "<class 'numpy.ndarray'>\n"
     ]
    }
   ],
   "source": [
    "a_v = np.array(a)\n",
    "print(a_v)\n",
    "print(type(a_v))"
   ]
  },
  {
   "cell_type": "code",
   "execution_count": 33,
   "id": "86600e92",
   "metadata": {},
   "outputs": [
    {
     "name": "stdout",
     "output_type": "stream",
     "text": [
      "[1 3 5]\n",
      "(3,)\n",
      "[[1 3 5]]\n",
      "(1, 3)\n",
      "[[1]\n",
      " [3]\n",
      " [5]]\n",
      "(3, 1)\n",
      "\n",
      " [[1 3 5]\n",
      " [2 4 8]]\n",
      "(2, 3)\n",
      "<class 'numpy.matrix'>\n",
      "\n",
      " [[1 3 5]\n",
      " [2 4 6]]\n",
      "(2, 3)\n",
      "<class 'numpy.ndarray'>\n",
      "(3, 2)\n",
      "[[ 2  6 10]\n",
      " [ 4  8 14]]\n",
      "<class 'numpy.matrix'>\n"
     ]
    }
   ],
   "source": [
    "#Vektori i matrice\n",
    "b = np.array([1,3,5])\n",
    "print(b)\n",
    "print(b.shape)\n",
    "\n",
    "b = np.array([[1,3,5]]) #vektor vrsta\n",
    "print(b)\n",
    "print(b.shape)\n",
    "\n",
    "c = np.array([[1],[3],[5]]) #vektor kolone\n",
    "print(c)\n",
    "print(c.shape)\n",
    "\n",
    "A = np.matrix([[1,3,5],[2,4,8]])\n",
    "print('\\n', A)\n",
    "print(A.shape)\n",
    "print(type(A))\n",
    "\n",
    "B = np.array([[1,3,5],[2,4,6]])\n",
    "print('\\n',B)\n",
    "print(B.shape)\n",
    "print(type(B))\n",
    "\n",
    "C = np.transpose(B)\n",
    "print(C.shape)\n",
    "\n",
    "D = A + B\n",
    "print(D)\n",
    "print(type(D))"
   ]
  },
  {
   "cell_type": "code",
   "execution_count": 37,
   "id": "0726f8c9",
   "metadata": {},
   "outputs": [
    {
     "name": "stdout",
     "output_type": "stream",
     "text": [
      "[[1. 1. 1.]\n",
      " [1. 1. 1.]]\n",
      "[0. 0. 0. 0. 0.]\n",
      "[[0. 0. 0.]\n",
      " [0. 0. 0.]\n",
      " [0. 0. 0.]]\n",
      "[[1. 0. 0. 0.]\n",
      " [0. 1. 0. 0.]\n",
      " [0. 0. 1. 0.]\n",
      " [0. 0. 0. 1.]]\n"
     ]
    }
   ],
   "source": [
    "z = np.ones((2,3))\n",
    "print(z)\n",
    "\n",
    "k = np.zeros(5)\n",
    "print(k)\n",
    "k = np.zeros((3,3))\n",
    "print(k)\n",
    "\n",
    "e = np.eye(4,4) \n",
    "print(e)"
   ]
  },
  {
   "cell_type": "code",
   "execution_count": 38,
   "id": "aed2809e",
   "metadata": {},
   "outputs": [
    {
     "name": "stdout",
     "output_type": "stream",
     "text": [
      "[[1 3 5]]\n",
      "[1 3 5]\n",
      "1\n",
      "5\n",
      "[3 5]\n",
      "[[1 3 5]\n",
      " [2 4 6]]\n",
      "6\n",
      "6\n"
     ]
    }
   ],
   "source": [
    "print(b)\n",
    "print(b[0])\n",
    "print(b[0,0])\n",
    "print(b[0,-1])\n",
    "print(b[0,-2:])\n",
    "\n",
    "print(B)\n",
    "print(B[1][2])\n",
    "print(B[1,2])"
   ]
  },
  {
   "cell_type": "code",
   "execution_count": 39,
   "id": "170b6e80",
   "metadata": {},
   "outputs": [
    {
     "name": "stdout",
     "output_type": "stream",
     "text": [
      "1\n",
      "3\n",
      "(1, 3)\n"
     ]
    }
   ],
   "source": [
    "print(len(b))\n",
    "print(b.size)\n",
    "print(b.shape)"
   ]
  },
  {
   "cell_type": "code",
   "execution_count": 40,
   "id": "1aa2c31f",
   "metadata": {},
   "outputs": [
    {
     "name": "stdout",
     "output_type": "stream",
     "text": [
      "<class 'list'>\n"
     ]
    }
   ],
   "source": [
    "b = b.tolist()\n",
    "print(type(b))"
   ]
  },
  {
   "cell_type": "code",
   "execution_count": 42,
   "id": "6a99ca11",
   "metadata": {},
   "outputs": [
    {
     "name": "stdout",
     "output_type": "stream",
     "text": [
      "0\n",
      "1\n",
      "2\n",
      "3\n",
      "4\n"
     ]
    }
   ],
   "source": [
    "# FOR\n",
    "\n",
    "for i in range(5):\n",
    "    print(i)"
   ]
  },
  {
   "cell_type": "code",
   "execution_count": 43,
   "id": "4bd9a93f",
   "metadata": {},
   "outputs": [
    {
     "name": "stdout",
     "output_type": "stream",
     "text": [
      "0\n",
      "1\n",
      "2\n",
      "3\n",
      "4\n"
     ]
    }
   ],
   "source": [
    "for i in range(0,5):\n",
    "    print(i)"
   ]
  },
  {
   "cell_type": "code",
   "execution_count": 44,
   "id": "3b4e9405",
   "metadata": {},
   "outputs": [
    {
     "name": "stdout",
     "output_type": "stream",
     "text": [
      "1\n",
      "2\n",
      "3\n",
      "4\n",
      "5\n",
      "6\n",
      "7\n",
      "8\n",
      "9\n",
      "10\n",
      "4\n"
     ]
    }
   ],
   "source": [
    "for i in a:\n",
    "    print(i)"
   ]
  },
  {
   "cell_type": "code",
   "execution_count": 45,
   "id": "789992b3",
   "metadata": {},
   "outputs": [
    {
     "data": {
      "text/plain": [
       "[0, 1, 4, 9, 16]"
      ]
     },
     "execution_count": 45,
     "metadata": {},
     "output_type": "execute_result"
    }
   ],
   "source": [
    "output = []\n",
    "\n",
    "for i in range(5):\n",
    "    output.append(i**2)\n",
    "output"
   ]
  },
  {
   "cell_type": "code",
   "execution_count": 46,
   "id": "979eca72",
   "metadata": {},
   "outputs": [
    {
     "data": {
      "text/plain": [
       "[0, 1, 4, 9, 16]"
      ]
     },
     "execution_count": 46,
     "metadata": {},
     "output_type": "execute_result"
    }
   ],
   "source": [
    "output2 = [i**2 for i in range(5)]\n",
    "output2"
   ]
  },
  {
   "cell_type": "code",
   "execution_count": 47,
   "id": "f95e5a04",
   "metadata": {},
   "outputs": [
    {
     "data": {
      "text/plain": [
       "[0, 4, 16, 36, 64]"
      ]
     },
     "execution_count": 47,
     "metadata": {},
     "output_type": "execute_result"
    }
   ],
   "source": [
    "output3 = [i**2 for i in range(10) if i%2==0]\n",
    "output3"
   ]
  },
  {
   "cell_type": "code",
   "execution_count": 48,
   "id": "a33f8eb4",
   "metadata": {},
   "outputs": [
    {
     "name": "stdout",
     "output_type": "stream",
     "text": [
      "<zip object at 0x7fb0bdefc500>\n",
      "[(1, 'x'), (2, 'y'), (3, 'z')]\n"
     ]
    }
   ],
   "source": [
    "L1 = [1,2,3]\n",
    "L2 = ['x', 'y', 'z']\n",
    "L3 = zip(L1, L2)\n",
    "\n",
    "print(L3)\n",
    "print(list(L3))"
   ]
  },
  {
   "cell_type": "code",
   "execution_count": 49,
   "id": "a527460c",
   "metadata": {},
   "outputs": [
    {
     "name": "stdout",
     "output_type": "stream",
     "text": [
      "1 x\n",
      "2 y\n",
      "3 z\n"
     ]
    }
   ],
   "source": [
    "for list1, list2 in zip(L1, L2):\n",
    "    print(list1, list2)"
   ]
  },
  {
   "cell_type": "code",
   "execution_count": 50,
   "id": "10afc0b9",
   "metadata": {},
   "outputs": [
    {
     "name": "stdout",
     "output_type": "stream",
     "text": [
      "[(1, 'x'), (2, 'y'), (3, 'z')]\n"
     ]
    }
   ],
   "source": [
    "print([(x, y) for x, y in zip(L1, L2)])"
   ]
  },
  {
   "cell_type": "code",
   "execution_count": null,
   "id": "49198f71",
   "metadata": {},
   "outputs": [],
   "source": [
    "# IF ELSE"
   ]
  },
  {
   "cell_type": "code",
   "execution_count": 53,
   "id": "3b78061b",
   "metadata": {},
   "outputs": [
    {
     "name": "stdout",
     "output_type": "stream",
     "text": [
      "One equal one\n"
     ]
    }
   ],
   "source": [
    "if 1 == 1:\n",
    "    print('One equal one')"
   ]
  },
  {
   "cell_type": "code",
   "execution_count": 54,
   "id": "eac496d8",
   "metadata": {},
   "outputs": [
    {
     "name": "stdout",
     "output_type": "stream",
     "text": [
      "One does not equal to zero\n"
     ]
    }
   ],
   "source": [
    "if 1 < 0:\n",
    "    print('One is less then zero')\n",
    "else:\n",
    "    print('One does not equal to zero')"
   ]
  },
  {
   "cell_type": "code",
   "execution_count": 55,
   "id": "e68349ab",
   "metadata": {},
   "outputs": [
    {
     "name": "stdout",
     "output_type": "stream",
     "text": [
      "One does not equal to zero\n"
     ]
    }
   ],
   "source": [
    "if 1 != 1:\n",
    "    print('One does not equal to one')\n",
    "elif 1 == 0:\n",
    "    print('One is equal to zero')\n",
    "else:\n",
    "    print('One does not equal to zero')"
   ]
  },
  {
   "cell_type": "code",
   "execution_count": 60,
   "id": "54fa1758",
   "metadata": {},
   "outputs": [
    {
     "name": "stdout",
     "output_type": "stream",
     "text": [
      "and operator\n",
      "or operator\n"
     ]
    }
   ],
   "source": [
    "if (1 == 1 and 0 < 1):\n",
    "    print('and operator')\n",
    "    \n",
    "if (1 ==1 or 0 == 1):\n",
    "    print('or operator')"
   ]
  },
  {
   "cell_type": "code",
   "execution_count": 61,
   "id": "f068cfea",
   "metadata": {},
   "outputs": [
    {
     "name": "stdout",
     "output_type": "stream",
     "text": [
      "0\n",
      "1\n",
      "2\n",
      "3\n",
      "4\n",
      "5\n"
     ]
    }
   ],
   "source": [
    "# WHILE\n",
    "\n",
    "i = 0\n",
    "\n",
    "while i < 5:\n",
    "    print(i)\n",
    "    i += 1\n",
    "print(i)"
   ]
  },
  {
   "cell_type": "code",
   "execution_count": 62,
   "id": "a5fd9a6b",
   "metadata": {},
   "outputs": [
    {
     "name": "stdout",
     "output_type": "stream",
     "text": [
      "7\n",
      "3\n",
      "4\n"
     ]
    }
   ],
   "source": [
    "# FUNCTIONS\n",
    "\n",
    "def SimpleAdd2(N1, N2):\n",
    "    return N1 + N2\n",
    "\n",
    "def SimpleAdd3(N1 = 2, N2 = 2):\n",
    "    return N1 + N2\n",
    "\n",
    "print(SimpleAdd2(2, 5))\n",
    "\n",
    "print(SimpleAdd3(1, 2))\n",
    "\n",
    "print(SimpleAdd3())"
   ]
  },
  {
   "cell_type": "code",
   "execution_count": null,
   "id": "fa4ca5d8",
   "metadata": {},
   "outputs": [],
   "source": []
  },
  {
   "cell_type": "code",
   "execution_count": null,
   "id": "38365272",
   "metadata": {},
   "outputs": [],
   "source": []
  },
  {
   "cell_type": "code",
   "execution_count": null,
   "id": "c9c42445",
   "metadata": {},
   "outputs": [],
   "source": []
  },
  {
   "cell_type": "code",
   "execution_count": null,
   "id": "ec191a7d",
   "metadata": {},
   "outputs": [],
   "source": []
  },
  {
   "cell_type": "code",
   "execution_count": null,
   "id": "057c7e3c",
   "metadata": {},
   "outputs": [],
   "source": []
  },
  {
   "cell_type": "code",
   "execution_count": null,
   "id": "1d52ab69",
   "metadata": {},
   "outputs": [],
   "source": []
  },
  {
   "cell_type": "code",
   "execution_count": null,
   "id": "dbfb771a",
   "metadata": {},
   "outputs": [],
   "source": []
  },
  {
   "cell_type": "code",
   "execution_count": null,
   "id": "d80e82e2",
   "metadata": {},
   "outputs": [],
   "source": []
  },
  {
   "cell_type": "code",
   "execution_count": null,
   "id": "e0880b5d",
   "metadata": {},
   "outputs": [],
   "source": []
  },
  {
   "cell_type": "code",
   "execution_count": null,
   "id": "3dd39af7",
   "metadata": {},
   "outputs": [],
   "source": []
  },
  {
   "cell_type": "code",
   "execution_count": null,
   "id": "ff432de7",
   "metadata": {},
   "outputs": [],
   "source": []
  },
  {
   "cell_type": "code",
   "execution_count": null,
   "id": "311ca447",
   "metadata": {},
   "outputs": [],
   "source": []
  },
  {
   "cell_type": "code",
   "execution_count": null,
   "id": "c790286e",
   "metadata": {},
   "outputs": [],
   "source": []
  },
  {
   "cell_type": "code",
   "execution_count": null,
   "id": "3fdcd59c",
   "metadata": {},
   "outputs": [],
   "source": []
  },
  {
   "cell_type": "code",
   "execution_count": null,
   "id": "26ccd1d7",
   "metadata": {},
   "outputs": [],
   "source": []
  },
  {
   "cell_type": "code",
   "execution_count": null,
   "id": "e4fa8c1d",
   "metadata": {},
   "outputs": [],
   "source": []
  },
  {
   "cell_type": "code",
   "execution_count": null,
   "id": "a41c1dc2",
   "metadata": {},
   "outputs": [],
   "source": []
  },
  {
   "cell_type": "code",
   "execution_count": null,
   "id": "40fb8063",
   "metadata": {},
   "outputs": [],
   "source": []
  },
  {
   "cell_type": "code",
   "execution_count": null,
   "id": "87770645",
   "metadata": {},
   "outputs": [],
   "source": []
  },
  {
   "cell_type": "code",
   "execution_count": null,
   "id": "553216f9",
   "metadata": {},
   "outputs": [],
   "source": []
  },
  {
   "cell_type": "code",
   "execution_count": null,
   "id": "3ab5e772",
   "metadata": {},
   "outputs": [],
   "source": []
  },
  {
   "cell_type": "code",
   "execution_count": null,
   "id": "ea53884a",
   "metadata": {},
   "outputs": [],
   "source": []
  },
  {
   "cell_type": "code",
   "execution_count": null,
   "id": "bc0b4989",
   "metadata": {},
   "outputs": [],
   "source": []
  },
  {
   "cell_type": "code",
   "execution_count": null,
   "id": "0d927743",
   "metadata": {},
   "outputs": [],
   "source": []
  },
  {
   "cell_type": "code",
   "execution_count": null,
   "id": "39e031ad",
   "metadata": {},
   "outputs": [],
   "source": []
  },
  {
   "cell_type": "code",
   "execution_count": null,
   "id": "9cdb8b44",
   "metadata": {},
   "outputs": [],
   "source": []
  },
  {
   "cell_type": "code",
   "execution_count": null,
   "id": "16b5686b",
   "metadata": {},
   "outputs": [],
   "source": []
  },
  {
   "cell_type": "code",
   "execution_count": null,
   "id": "43de0553",
   "metadata": {},
   "outputs": [],
   "source": []
  },
  {
   "cell_type": "code",
   "execution_count": null,
   "id": "d1c11398",
   "metadata": {},
   "outputs": [],
   "source": []
  },
  {
   "cell_type": "code",
   "execution_count": null,
   "id": "2f240eb5",
   "metadata": {},
   "outputs": [],
   "source": []
  },
  {
   "cell_type": "code",
   "execution_count": null,
   "id": "86d8586c",
   "metadata": {},
   "outputs": [],
   "source": []
  },
  {
   "cell_type": "code",
   "execution_count": null,
   "id": "509e39e1",
   "metadata": {},
   "outputs": [],
   "source": []
  }
 ],
 "metadata": {
  "kernelspec": {
   "display_name": "Python 3 (ipykernel)",
   "language": "python",
   "name": "python3"
  },
  "language_info": {
   "codemirror_mode": {
    "name": "ipython",
    "version": 3
   },
   "file_extension": ".py",
   "mimetype": "text/x-python",
   "name": "python",
   "nbconvert_exporter": "python",
   "pygments_lexer": "ipython3",
   "version": "3.9.13"
  }
 },
 "nbformat": 4,
 "nbformat_minor": 5
}
