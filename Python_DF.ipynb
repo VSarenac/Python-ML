{
 "cells": [
  {
   "cell_type": "code",
   "execution_count": 59,
   "id": "d9ee6313",
   "metadata": {},
   "outputs": [],
   "source": [
    "import pandas as pd\n",
    "import numpy as np\n",
    "import matplotlib.pyplot as plt"
   ]
  },
  {
   "cell_type": "code",
   "execution_count": 60,
   "id": "6f0e9c9e",
   "metadata": {},
   "outputs": [],
   "source": [
    "names = ['Nikola', 'Sara', 'Marko', 'Milica', 'Luka']"
   ]
  },
  {
   "cell_type": "code",
   "execution_count": 61,
   "id": "a4efff89",
   "metadata": {},
   "outputs": [
    {
     "name": "stdout",
     "output_type": "stream",
     "text": [
      "Prvih 10:  ['Sara', 'Milica', 'Luka', 'Milica', 'Marko', 'Marko', 'Milica', 'Milica', 'Milica', 'Luka']\n",
      "Od 15. do 20. elementa:  ['Milica', 'Luka', 'Sara', 'Luka', 'Luka', 'Sara']\n"
     ]
    }
   ],
   "source": [
    "#Kreirati novu listu od 1000 imena, iz vektora names na random nacin i prikazati prvih 10 i od 15 dod 20 elementa.\n",
    "\n",
    "random_names = []\n",
    "for i in range(1000):\n",
    "    n = np.random.randint(low = 0, high = len(names))\n",
    "    random_names.append(names[n])\n",
    "\n",
    "print('Prvih 10: ', random_names[:10])\n",
    "print('Od 15. do 20. elementa: ', random_names[15:21])"
   ]
  },
  {
   "cell_type": "code",
   "execution_count": 62,
   "id": "db5aba28",
   "metadata": {},
   "outputs": [
    {
     "name": "stdout",
     "output_type": "stream",
     "text": [
      "Prvih 10:  [278, 363, 392, 462, 143, 411, 463, 63, 137, 3]\n",
      "Poslednjih 10:  [284, 236, 486, 338, 479, 31, 470, 265, 150, 328]\n"
     ]
    }
   ],
   "source": [
    "#Generisati n slucajnih brojeva izmedju 0 i 500 \n",
    "\n",
    "lis = []\n",
    "for i in range(1000):\n",
    "    lis.append(np.random.randint(low = 0, high = 500))\n",
    "\n",
    "print('Prvih 10: ', lis[:10])\n",
    "print('Poslednjih 10: ', lis[-10:])"
   ]
  },
  {
   "cell_type": "code",
   "execution_count": 63,
   "id": "1d74189f",
   "metadata": {},
   "outputs": [],
   "source": [
    "# Spajanje \n",
    "Names_Lis_DataSet = zip(random_names, lis) "
   ]
  },
  {
   "cell_type": "code",
   "execution_count": 64,
   "id": "1295d139",
   "metadata": {},
   "outputs": [
    {
     "data": {
      "text/html": [
       "<div>\n",
       "<style scoped>\n",
       "    .dataframe tbody tr th:only-of-type {\n",
       "        vertical-align: middle;\n",
       "    }\n",
       "\n",
       "    .dataframe tbody tr th {\n",
       "        vertical-align: top;\n",
       "    }\n",
       "\n",
       "    .dataframe thead th {\n",
       "        text-align: right;\n",
       "    }\n",
       "</style>\n",
       "<table border=\"1\" class=\"dataframe\">\n",
       "  <thead>\n",
       "    <tr style=\"text-align: right;\">\n",
       "      <th></th>\n",
       "      <th>0</th>\n",
       "      <th>1</th>\n",
       "    </tr>\n",
       "  </thead>\n",
       "  <tbody>\n",
       "    <tr>\n",
       "      <th>0</th>\n",
       "      <td>Sara</td>\n",
       "      <td>278</td>\n",
       "    </tr>\n",
       "    <tr>\n",
       "      <th>1</th>\n",
       "      <td>Milica</td>\n",
       "      <td>363</td>\n",
       "    </tr>\n",
       "    <tr>\n",
       "      <th>2</th>\n",
       "      <td>Luka</td>\n",
       "      <td>392</td>\n",
       "    </tr>\n",
       "    <tr>\n",
       "      <th>3</th>\n",
       "      <td>Milica</td>\n",
       "      <td>462</td>\n",
       "    </tr>\n",
       "    <tr>\n",
       "      <th>4</th>\n",
       "      <td>Marko</td>\n",
       "      <td>143</td>\n",
       "    </tr>\n",
       "    <tr>\n",
       "      <th>5</th>\n",
       "      <td>Marko</td>\n",
       "      <td>411</td>\n",
       "    </tr>\n",
       "    <tr>\n",
       "      <th>6</th>\n",
       "      <td>Milica</td>\n",
       "      <td>463</td>\n",
       "    </tr>\n",
       "    <tr>\n",
       "      <th>7</th>\n",
       "      <td>Milica</td>\n",
       "      <td>63</td>\n",
       "    </tr>\n",
       "    <tr>\n",
       "      <th>8</th>\n",
       "      <td>Milica</td>\n",
       "      <td>137</td>\n",
       "    </tr>\n",
       "    <tr>\n",
       "      <th>9</th>\n",
       "      <td>Luka</td>\n",
       "      <td>3</td>\n",
       "    </tr>\n",
       "  </tbody>\n",
       "</table>\n",
       "</div>"
      ],
      "text/plain": [
       "        0    1\n",
       "0    Sara  278\n",
       "1  Milica  363\n",
       "2    Luka  392\n",
       "3  Milica  462\n",
       "4   Marko  143\n",
       "5   Marko  411\n",
       "6  Milica  463\n",
       "7  Milica   63\n",
       "8  Milica  137\n",
       "9    Luka    3"
      ]
     },
     "execution_count": 64,
     "metadata": {},
     "output_type": "execute_result"
    }
   ],
   "source": [
    "df = pd.DataFrame(Names_Lis_DataSet)\n",
    "df.head(10)"
   ]
  },
  {
   "cell_type": "code",
   "execution_count": 16,
   "id": "9b8e9d3b",
   "metadata": {},
   "outputs": [],
   "source": [
    "# df.to_csv('Names_Lis_DataSet.txt', index = False, header = False) #ako nema header false stavlja prvi red kao naziv\n",
    "# df = pd.read_csv('Names_Lis_DataSet.txt')"
   ]
  },
  {
   "cell_type": "code",
   "execution_count": 65,
   "id": "6110f5c5",
   "metadata": {},
   "outputs": [
    {
     "data": {
      "text/html": [
       "<div>\n",
       "<style scoped>\n",
       "    .dataframe tbody tr th:only-of-type {\n",
       "        vertical-align: middle;\n",
       "    }\n",
       "\n",
       "    .dataframe tbody tr th {\n",
       "        vertical-align: top;\n",
       "    }\n",
       "\n",
       "    .dataframe thead th {\n",
       "        text-align: right;\n",
       "    }\n",
       "</style>\n",
       "<table border=\"1\" class=\"dataframe\">\n",
       "  <thead>\n",
       "    <tr style=\"text-align: right;\">\n",
       "      <th></th>\n",
       "      <th>0</th>\n",
       "      <th>1</th>\n",
       "    </tr>\n",
       "  </thead>\n",
       "  <tbody>\n",
       "    <tr>\n",
       "      <th>0</th>\n",
       "      <td>Sara</td>\n",
       "      <td>278</td>\n",
       "    </tr>\n",
       "    <tr>\n",
       "      <th>1</th>\n",
       "      <td>Milica</td>\n",
       "      <td>363</td>\n",
       "    </tr>\n",
       "    <tr>\n",
       "      <th>2</th>\n",
       "      <td>Luka</td>\n",
       "      <td>392</td>\n",
       "    </tr>\n",
       "    <tr>\n",
       "      <th>3</th>\n",
       "      <td>Milica</td>\n",
       "      <td>462</td>\n",
       "    </tr>\n",
       "    <tr>\n",
       "      <th>4</th>\n",
       "      <td>Marko</td>\n",
       "      <td>143</td>\n",
       "    </tr>\n",
       "  </tbody>\n",
       "</table>\n",
       "</div>"
      ],
      "text/plain": [
       "        0    1\n",
       "0    Sara  278\n",
       "1  Milica  363\n",
       "2    Luka  392\n",
       "3  Milica  462\n",
       "4   Marko  143"
      ]
     },
     "execution_count": 65,
     "metadata": {},
     "output_type": "execute_result"
    }
   ],
   "source": [
    "df.head()"
   ]
  },
  {
   "cell_type": "code",
   "execution_count": 66,
   "id": "b10adaf5",
   "metadata": {},
   "outputs": [
    {
     "data": {
      "text/html": [
       "<div>\n",
       "<style scoped>\n",
       "    .dataframe tbody tr th:only-of-type {\n",
       "        vertical-align: middle;\n",
       "    }\n",
       "\n",
       "    .dataframe tbody tr th {\n",
       "        vertical-align: top;\n",
       "    }\n",
       "\n",
       "    .dataframe thead th {\n",
       "        text-align: right;\n",
       "    }\n",
       "</style>\n",
       "<table border=\"1\" class=\"dataframe\">\n",
       "  <thead>\n",
       "    <tr style=\"text-align: right;\">\n",
       "      <th></th>\n",
       "      <th>0</th>\n",
       "      <th>1</th>\n",
       "    </tr>\n",
       "  </thead>\n",
       "  <tbody>\n",
       "    <tr>\n",
       "      <th>995</th>\n",
       "      <td>Luka</td>\n",
       "      <td>31</td>\n",
       "    </tr>\n",
       "    <tr>\n",
       "      <th>996</th>\n",
       "      <td>Sara</td>\n",
       "      <td>470</td>\n",
       "    </tr>\n",
       "    <tr>\n",
       "      <th>997</th>\n",
       "      <td>Marko</td>\n",
       "      <td>265</td>\n",
       "    </tr>\n",
       "    <tr>\n",
       "      <th>998</th>\n",
       "      <td>Sara</td>\n",
       "      <td>150</td>\n",
       "    </tr>\n",
       "    <tr>\n",
       "      <th>999</th>\n",
       "      <td>Luka</td>\n",
       "      <td>328</td>\n",
       "    </tr>\n",
       "  </tbody>\n",
       "</table>\n",
       "</div>"
      ],
      "text/plain": [
       "         0    1\n",
       "995   Luka   31\n",
       "996   Sara  470\n",
       "997  Marko  265\n",
       "998   Sara  150\n",
       "999   Luka  328"
      ]
     },
     "execution_count": 66,
     "metadata": {},
     "output_type": "execute_result"
    }
   ],
   "source": [
    "df.tail()"
   ]
  },
  {
   "cell_type": "code",
   "execution_count": 67,
   "id": "65166e9b",
   "metadata": {},
   "outputs": [
    {
     "data": {
      "text/html": [
       "<div>\n",
       "<style scoped>\n",
       "    .dataframe tbody tr th:only-of-type {\n",
       "        vertical-align: middle;\n",
       "    }\n",
       "\n",
       "    .dataframe tbody tr th {\n",
       "        vertical-align: top;\n",
       "    }\n",
       "\n",
       "    .dataframe thead th {\n",
       "        text-align: right;\n",
       "    }\n",
       "</style>\n",
       "<table border=\"1\" class=\"dataframe\">\n",
       "  <thead>\n",
       "    <tr style=\"text-align: right;\">\n",
       "      <th></th>\n",
       "      <th>Name</th>\n",
       "      <th>Number</th>\n",
       "    </tr>\n",
       "  </thead>\n",
       "  <tbody>\n",
       "    <tr>\n",
       "      <th>0</th>\n",
       "      <td>Sara</td>\n",
       "      <td>278</td>\n",
       "    </tr>\n",
       "    <tr>\n",
       "      <th>1</th>\n",
       "      <td>Milica</td>\n",
       "      <td>363</td>\n",
       "    </tr>\n",
       "    <tr>\n",
       "      <th>2</th>\n",
       "      <td>Luka</td>\n",
       "      <td>392</td>\n",
       "    </tr>\n",
       "    <tr>\n",
       "      <th>3</th>\n",
       "      <td>Milica</td>\n",
       "      <td>462</td>\n",
       "    </tr>\n",
       "    <tr>\n",
       "      <th>4</th>\n",
       "      <td>Marko</td>\n",
       "      <td>143</td>\n",
       "    </tr>\n",
       "    <tr>\n",
       "      <th>...</th>\n",
       "      <td>...</td>\n",
       "      <td>...</td>\n",
       "    </tr>\n",
       "    <tr>\n",
       "      <th>995</th>\n",
       "      <td>Luka</td>\n",
       "      <td>31</td>\n",
       "    </tr>\n",
       "    <tr>\n",
       "      <th>996</th>\n",
       "      <td>Sara</td>\n",
       "      <td>470</td>\n",
       "    </tr>\n",
       "    <tr>\n",
       "      <th>997</th>\n",
       "      <td>Marko</td>\n",
       "      <td>265</td>\n",
       "    </tr>\n",
       "    <tr>\n",
       "      <th>998</th>\n",
       "      <td>Sara</td>\n",
       "      <td>150</td>\n",
       "    </tr>\n",
       "    <tr>\n",
       "      <th>999</th>\n",
       "      <td>Luka</td>\n",
       "      <td>328</td>\n",
       "    </tr>\n",
       "  </tbody>\n",
       "</table>\n",
       "<p>1000 rows × 2 columns</p>\n",
       "</div>"
      ],
      "text/plain": [
       "       Name  Number\n",
       "0      Sara     278\n",
       "1    Milica     363\n",
       "2      Luka     392\n",
       "3    Milica     462\n",
       "4     Marko     143\n",
       "..      ...     ...\n",
       "995    Luka      31\n",
       "996    Sara     470\n",
       "997   Marko     265\n",
       "998    Sara     150\n",
       "999    Luka     328\n",
       "\n",
       "[1000 rows x 2 columns]"
      ]
     },
     "execution_count": 67,
     "metadata": {},
     "output_type": "execute_result"
    }
   ],
   "source": [
    "df.columns = ['Name', 'Number']\n",
    "df"
   ]
  },
  {
   "cell_type": "code",
   "execution_count": 68,
   "id": "7f09b1fc",
   "metadata": {},
   "outputs": [
    {
     "name": "stdout",
     "output_type": "stream",
     "text": [
      "(1000, 2)\n"
     ]
    }
   ],
   "source": [
    "print(df.shape)"
   ]
  },
  {
   "cell_type": "code",
   "execution_count": null,
   "id": "e8627812",
   "metadata": {},
   "outputs": [],
   "source": [
    "# PRIPREMA PODATAKA"
   ]
  },
  {
   "cell_type": "code",
   "execution_count": 69,
   "id": "735fd4f4",
   "metadata": {},
   "outputs": [
    {
     "name": "stdout",
     "output_type": "stream",
     "text": [
      "['Sara' 'Milica' 'Luka' 'Marko' 'Nikola']\n"
     ]
    }
   ],
   "source": [
    "print(pd.unique(df['Name']))"
   ]
  },
  {
   "cell_type": "code",
   "execution_count": 70,
   "id": "21d613b4",
   "metadata": {},
   "outputs": [
    {
     "name": "stdout",
     "output_type": "stream",
     "text": [
      "[120 679]\n",
      "(998, 2)\n"
     ]
    }
   ],
   "source": [
    "indexes_to_drop = df.loc[df['Number'] == 0].index #imena vrsta koje treba izbaciti\n",
    "print(indexes_to_drop.values)\n",
    "df.drop(indexes_to_drop, axis = 0, inplace = True) # axis 0 odosi se na vrste koje zelimo da izbaicmo axis=1 odnosi se na kolone. Ako je inplace= True direktno radi na df\n",
    "print(df.shape)"
   ]
  },
  {
   "cell_type": "code",
   "execution_count": 72,
   "id": "8a2ce958",
   "metadata": {},
   "outputs": [
    {
     "data": {
      "text/html": [
       "<div>\n",
       "<style scoped>\n",
       "    .dataframe tbody tr th:only-of-type {\n",
       "        vertical-align: middle;\n",
       "    }\n",
       "\n",
       "    .dataframe tbody tr th {\n",
       "        vertical-align: top;\n",
       "    }\n",
       "\n",
       "    .dataframe thead th {\n",
       "        text-align: right;\n",
       "    }\n",
       "</style>\n",
       "<table border=\"1\" class=\"dataframe\">\n",
       "  <thead>\n",
       "    <tr style=\"text-align: right;\">\n",
       "      <th></th>\n",
       "      <th>Number</th>\n",
       "    </tr>\n",
       "    <tr>\n",
       "      <th>Name</th>\n",
       "      <th></th>\n",
       "    </tr>\n",
       "  </thead>\n",
       "  <tbody>\n",
       "    <tr>\n",
       "      <th>Luka</th>\n",
       "      <td>49326</td>\n",
       "    </tr>\n",
       "    <tr>\n",
       "      <th>Marko</th>\n",
       "      <td>51983</td>\n",
       "    </tr>\n",
       "    <tr>\n",
       "      <th>Milica</th>\n",
       "      <td>56264</td>\n",
       "    </tr>\n",
       "    <tr>\n",
       "      <th>Nikola</th>\n",
       "      <td>49439</td>\n",
       "    </tr>\n",
       "    <tr>\n",
       "      <th>Sara</th>\n",
       "      <td>46734</td>\n",
       "    </tr>\n",
       "  </tbody>\n",
       "</table>\n",
       "</div>"
      ],
      "text/plain": [
       "        Number\n",
       "Name          \n",
       "Luka     49326\n",
       "Marko    51983\n",
       "Milica   56264\n",
       "Nikola   49439\n",
       "Sara     46734"
      ]
     },
     "execution_count": 72,
     "metadata": {},
     "output_type": "execute_result"
    }
   ],
   "source": [
    "names = df.groupby('Name')\n",
    "df = names.sum()\n",
    "df"
   ]
  },
  {
   "cell_type": "code",
   "execution_count": 73,
   "id": "805e13a5",
   "metadata": {},
   "outputs": [
    {
     "data": {
      "text/plain": [
       "49326"
      ]
     },
     "execution_count": 73,
     "metadata": {},
     "output_type": "execute_result"
    }
   ],
   "source": [
    "df.loc['Luka', 'Number']"
   ]
  },
  {
   "cell_type": "code",
   "execution_count": 74,
   "id": "f26ff669",
   "metadata": {},
   "outputs": [
    {
     "data": {
      "text/plain": [
       "Name\n",
       "Luka      49326\n",
       "Marko     51983\n",
       "Milica    56264\n",
       "Nikola    49439\n",
       "Sara      46734\n",
       "Name: Number, dtype: int64"
      ]
     },
     "execution_count": 74,
     "metadata": {},
     "output_type": "execute_result"
    }
   ],
   "source": [
    "df['Number']"
   ]
  },
  {
   "cell_type": "code",
   "execution_count": null,
   "id": "d7a93ce4",
   "metadata": {},
   "outputs": [],
   "source": [
    "# ANALIZA PODATAKA"
   ]
  },
  {
   "cell_type": "code",
   "execution_count": 75,
   "id": "bb7c2cc5",
   "metadata": {},
   "outputs": [
    {
     "name": "stdout",
     "output_type": "stream",
     "text": [
      "Najpopularnije ime je  Milica  i javlja se  56264  puta.\n"
     ]
    }
   ],
   "source": [
    "value_sorted = np.sort(df['Number'])[-1] #sort od najmanjeg do najveceg [-1]=najveci\n",
    "index_sorted = np.argsort(df['Number'])[-1] #argsort vraca argument(index)\n",
    "print('Najpopularnije ime je ', df.index[index_sorted], ' i javlja se ', value_sorted, ' puta.')"
   ]
  },
  {
   "cell_type": "code",
   "execution_count": null,
   "id": "bdc62a6a",
   "metadata": {},
   "outputs": [],
   "source": [
    "# PREZENTACIJA PODATAKA"
   ]
  },
  {
   "cell_type": "code",
   "execution_count": 76,
   "id": "fd0585bc",
   "metadata": {},
   "outputs": [
    {
     "data": {
      "text/html": [
       "<div>\n",
       "<style scoped>\n",
       "    .dataframe tbody tr th:only-of-type {\n",
       "        vertical-align: middle;\n",
       "    }\n",
       "\n",
       "    .dataframe tbody tr th {\n",
       "        vertical-align: top;\n",
       "    }\n",
       "\n",
       "    .dataframe thead th {\n",
       "        text-align: right;\n",
       "    }\n",
       "</style>\n",
       "<table border=\"1\" class=\"dataframe\">\n",
       "  <thead>\n",
       "    <tr style=\"text-align: right;\">\n",
       "      <th></th>\n",
       "      <th>Number</th>\n",
       "    </tr>\n",
       "    <tr>\n",
       "      <th>Name</th>\n",
       "      <th></th>\n",
       "    </tr>\n",
       "  </thead>\n",
       "  <tbody>\n",
       "    <tr>\n",
       "      <th>Sara</th>\n",
       "      <td>46734</td>\n",
       "    </tr>\n",
       "    <tr>\n",
       "      <th>Luka</th>\n",
       "      <td>49326</td>\n",
       "    </tr>\n",
       "    <tr>\n",
       "      <th>Nikola</th>\n",
       "      <td>49439</td>\n",
       "    </tr>\n",
       "    <tr>\n",
       "      <th>Marko</th>\n",
       "      <td>51983</td>\n",
       "    </tr>\n",
       "    <tr>\n",
       "      <th>Milica</th>\n",
       "      <td>56264</td>\n",
       "    </tr>\n",
       "  </tbody>\n",
       "</table>\n",
       "</div>"
      ],
      "text/plain": [
       "        Number\n",
       "Name          \n",
       "Sara     46734\n",
       "Luka     49326\n",
       "Nikola   49439\n",
       "Marko    51983\n",
       "Milica   56264"
      ]
     },
     "execution_count": 76,
     "metadata": {},
     "output_type": "execute_result"
    },
    {
     "data": {
      "text/plain": [
       "<Figure size 1600x800 with 0 Axes>"
      ]
     },
     "metadata": {},
     "output_type": "display_data"
    }
   ],
   "source": [
    "plt.figure(figsize = (16, 8))\n",
    "df_sort = df.sort_values(by = 'Number')\n",
    "df_sort.head()"
   ]
  },
  {
   "cell_type": "code",
   "execution_count": 77,
   "id": "e643f7fb",
   "metadata": {},
   "outputs": [
    {
     "data": {
      "text/plain": [
       "<AxesSubplot:xlabel='Name'>"
      ]
     },
     "execution_count": 77,
     "metadata": {},
     "output_type": "execute_result"
    },
    {
     "data": {
      "image/png": "[encoded data removed]",
      "text/plain": [
       "<Figure size 640x480 with 1 Axes>"
      ]
     },
     "metadata": {},
     "output_type": "display_data"
    }
   ],
   "source": [
    "df_sort['Number'][::-1].plot.bar()"
   ]
  }
 ],
 "metadata": {
  "kernelspec": {
   "display_name": "Python 3 (ipykernel)",
   "language": "python",
   "name": "python3"
  },
  "language_info": {
   "codemirror_mode": {
    "name": "ipython",
    "version": 3
   },
   "file_extension": ".py",
   "mimetype": "text/x-python",
   "name": "python",
   "nbconvert_exporter": "python",
   "pygments_lexer": "ipython3",
   "version": "3.9.13"
  }
 },
 "nbformat": 4,
 "nbformat_minor": 5
}
